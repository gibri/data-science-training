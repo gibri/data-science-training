{
 "cells": [
  {
   "cell_type": "markdown",
   "id": "22d705d9-d576-49ab-9d33-fea3c4c288e5",
   "metadata": {},
   "source": [
    "# Data Science Tools and Ecosystem"
   ]
  },
  {
   "cell_type": "markdown",
   "id": "dd1ea6d8-868c-4993-a20f-f1ea00f35db9",
   "metadata": {},
   "source": [
    "In this notebook, Data Science Tools and Ecosystem are summarized.\n",
    "Various tools and languages for data science will be listed. Some simple pytohon cells will also be shown."
   ]
  },
  {
   "cell_type": "markdown",
   "id": "83c06b4d-ff95-4b22-b128-7c9ce3ad5f8c",
   "metadata": {},
   "source": [
    "Some of the popular languages that Data Scientists use are:\n",
    "\n",
    "1. Python\n",
    "2. R\n",
    "3. Scala\n",
    "4. Java\n",
    "5. C++"
   ]
  },
  {
   "cell_type": "markdown",
   "id": "6a712aa1-ea37-47c8-804a-127838adc198",
   "metadata": {},
   "source": [
    "Some of the commonly used libraries used by Data Scientists include:\n",
    "\n",
    "1. pandas\n",
    "2. seaborn\n",
    "3. numpy\n",
    "4. pytorch\n",
    "5. tensorflow\n",
    "6. ggplot2"
   ]
  },
  {
   "cell_type": "markdown",
   "id": "0dd21270-1948-4ae3-9d3f-795caa9eb981",
   "metadata": {},
   "source": [
    "| Data Science Tools |\n",
    "| ------------------ |\n",
    "| Jupyter Notebooks  |\n",
    "| Jupyter Lab        |\n",
    "| R Studio           |\n"
   ]
  },
  {
   "cell_type": "markdown",
   "id": "b406d154-1cfa-4b62-9c73-5cd2cfd6d1fc",
   "metadata": {
    "tags": []
   },
   "source": [
    "### Below are a few examples of evaluating arithmetic expressions in Python"
   ]
  },
  {
   "cell_type": "code",
   "execution_count": 2,
   "id": "df516d5b-14c7-49f6-aa72-ab6a6c956696",
   "metadata": {
    "tags": []
   },
   "outputs": [
    {
     "data": {
      "text/plain": [
       "17"
      ]
     },
     "execution_count": 2,
     "metadata": {},
     "output_type": "execute_result"
    }
   ],
   "source": [
    "# This a simple arithmetic expression to mutiply then add integers\n",
    "(3*4)+5"
   ]
  },
  {
   "cell_type": "code",
   "execution_count": 3,
   "id": "3a2288fb-39bd-4407-a18c-805232b1820e",
   "metadata": {
    "tags": []
   },
   "outputs": [
    {
     "data": {
      "text/plain": [
       "3.3333333333333335"
      ]
     },
     "execution_count": 3,
     "metadata": {},
     "output_type": "execute_result"
    }
   ],
   "source": [
    "# This will convert 200 minutes to hours by diving by 60.\n",
    "200/60"
   ]
  },
  {
   "cell_type": "markdown",
   "id": "fd37906e-d290-4d15-87a3-818979b43b38",
   "metadata": {},
   "source": [
    "**Objectives:**\n",
    "\n",
    "- List popular languages for Data Science\n",
    "- List popular Data Science libraries\n",
    "- List some development tools commonly used\n",
    "- Show how easily python code can be used in a Jupyter notebook."
   ]
  },
  {
   "cell_type": "markdown",
   "id": "59460973-bda8-48e2-942e-31119c032516",
   "metadata": {},
   "source": [
    "## Author:\n",
    "\n",
    "Giovanni Bricconi"
   ]
  }
 ],
 "metadata": {
  "kernelspec": {
   "display_name": "Python 3 (ipykernel)",
   "language": "python",
   "name": "python3"
  },
  "language_info": {
   "codemirror_mode": {
    "name": "ipython",
    "version": 3
   },
   "file_extension": ".py",
   "mimetype": "text/x-python",
   "name": "python",
   "nbconvert_exporter": "python",
   "pygments_lexer": "ipython3",
   "version": "3.11.5"
  }
 },
 "nbformat": 4,
 "nbformat_minor": 5
}
